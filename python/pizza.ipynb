{
 "cells": [
  {
   "cell_type": "code",
   "execution_count": 2,
   "metadata": {},
   "outputs": [],
   "source": [
    "import pandas as pd\n",
    "import geopandas as gpd\n",
    "from shapely.geometry import Point\n",
    "import matplotlib.pyplot as plt\n",
    "import seaborn as sns"
   ]
  },
  {
   "cell_type": "code",
   "execution_count": 3,
   "metadata": {},
   "outputs": [
    {
     "name": "stderr",
     "output_type": "stream",
     "text": [
      "/var/folders/q9/4c9l_trn4471nk6lfbvtpn400000gn/T/ipykernel_74397/1166036906.py:16: DeprecationWarning: ExtensionArray.fillna added a 'copy' keyword in pandas 2.1.0. In a future version, ExtensionArray subclasses will need to implement this keyword or an exception will be raised. In the interim, the keyword is ignored by GeometryArray.\n",
      "  pizzerias_gdf = pizzerias_gdf.fillna(\"\")\n"
     ]
    }
   ],
   "source": [
    "# import pizzeria csv\n",
    "pizzerias = pd.read_csv(\"../Data/pizzerias - Pizza.csv\")\n",
    "\n",
    "# extract lat and long from location\n",
    "pizzerias[\"lat\"] = pizzerias[\"Location\"].apply(lambda x: float(x.split(\",\")[0]))\n",
    "pizzerias[\"long\"] = pizzerias[\"Location\"].apply(lambda x: float(x.split(\",\")[1]))\n",
    "\n",
    "# convert to geodataframe\n",
    "pizzerias_gdf = gpd.GeoDataFrame(pizzerias, geometry=gpd.points_from_xy(pizzerias.long, pizzerias.lat))\n",
    "\n",
    "# sort by rating and Pizzeria\n",
    "pizzerias_gdf = pizzerias_gdf.sort_values(by=[\"Rating\", \"Pizzeria\"], ascending=[False, True])\n",
    "# set column order\n",
    "pizzerias_gdf = pizzerias_gdf[[\"Pizzeria\", \"Style\", \"State\", \"Rating\", \"Notes\", \"Image\", \"geometry\"]]\n",
    "# replace nan with empty string\n",
    "pizzerias_gdf = pizzerias_gdf.fillna(\"\")"
   ]
  },
  {
   "cell_type": "code",
   "execution_count": 5,
   "metadata": {},
   "outputs": [],
   "source": [
    "# export as geojson\n",
    "pizzerias_gdf.to_file(\"../Data/pizzerias.geojson\", driver=\"GeoJSON\")"
   ]
  },
  {
   "cell_type": "code",
   "execution_count": 9,
   "metadata": {},
   "outputs": [],
   "source": [
    "# calculate average Rating and count by State\n",
    "pizzerias_state = pizzerias[[\"State\", \"Rating\"]].groupby(\"State\").agg([\"mean\", \"count\"]).reset_index()\n",
    "# flatten columns\n",
    "pizzerias_state.columns = pizzerias_state.columns.droplevel(0)\n",
    "pizzerias_state.columns = [\"State\", \"Average Rating\", \"Number of Ratings\"]\n",
    "# keep if count is greater than 5\n",
    "# pizzerias_state = pizzerias_state[pizzerias_state[\"Number of Ratings\"] >= 5]\n",
    "# sort by average rating\n",
    "pizzerias_state = pizzerias_state.sort_values(by=\"Number of Ratings\", ascending=False)"
   ]
  },
  {
   "cell_type": "code",
   "execution_count": 10,
   "metadata": {},
   "outputs": [
    {
     "data": {
      "application/vnd.microsoft.datawrangler.viewer.v0+json": {
       "columns": [
        {
         "name": "index",
         "rawType": "int64",
         "type": "integer"
        },
        {
         "name": "State",
         "rawType": "object",
         "type": "string"
        },
        {
         "name": "Average Rating",
         "rawType": "float64",
         "type": "float"
        },
        {
         "name": "Number of Ratings",
         "rawType": "int64",
         "type": "integer"
        }
       ],
       "conversionMethod": "pd.DataFrame",
       "ref": "7d68566f-1fc1-4a8c-8286-d083a440a68e",
       "rows": [
        [
         "8",
         "MA",
         "2.9642857142857144",
         "84"
        ],
        [
         "3",
         "DC",
         "3.5396825396825395",
         "63"
        ],
        [
         "13",
         "NY",
         "3.9210526315789473",
         "38"
        ],
        [
         "16",
         "VA",
         "3.5",
         "24"
        ],
        [
         "7",
         "Italy",
         "3.9",
         "10"
        ],
        [
         "12",
         "NH",
         "2.75",
         "8"
        ],
        [
         "4",
         "FL",
         "3.3333333333333335",
         "6"
        ],
        [
         "15",
         "Slovenia",
         "4.0",
         "6"
        ],
        [
         "14",
         "PA",
         "3.6666666666666665",
         "6"
        ],
        [
         "0",
         "CA",
         "3.4",
         "5"
        ],
        [
         "17",
         "VT",
         "3.8",
         "5"
        ],
        [
         "9",
         "MD",
         "4.0",
         "3"
        ],
        [
         "11",
         "MI",
         "4.0",
         "2"
        ],
        [
         "6",
         "IL",
         "3.5",
         "2"
        ],
        [
         "10",
         "ME",
         "4.0",
         "1"
        ],
        [
         "1",
         "CO",
         "2.0",
         "1"
        ],
        [
         "5",
         "GA",
         "3.0",
         "1"
        ],
        [
         "2",
         "CT",
         "4.0",
         "1"
        ]
       ],
       "shape": {
        "columns": 3,
        "rows": 18
       }
      },
      "text/html": [
       "<div>\n",
       "<style scoped>\n",
       "    .dataframe tbody tr th:only-of-type {\n",
       "        vertical-align: middle;\n",
       "    }\n",
       "\n",
       "    .dataframe tbody tr th {\n",
       "        vertical-align: top;\n",
       "    }\n",
       "\n",
       "    .dataframe thead th {\n",
       "        text-align: right;\n",
       "    }\n",
       "</style>\n",
       "<table border=\"1\" class=\"dataframe\">\n",
       "  <thead>\n",
       "    <tr style=\"text-align: right;\">\n",
       "      <th></th>\n",
       "      <th>State</th>\n",
       "      <th>Average Rating</th>\n",
       "      <th>Number of Ratings</th>\n",
       "    </tr>\n",
       "  </thead>\n",
       "  <tbody>\n",
       "    <tr>\n",
       "      <th>8</th>\n",
       "      <td>MA</td>\n",
       "      <td>2.964286</td>\n",
       "      <td>84</td>\n",
       "    </tr>\n",
       "    <tr>\n",
       "      <th>3</th>\n",
       "      <td>DC</td>\n",
       "      <td>3.539683</td>\n",
       "      <td>63</td>\n",
       "    </tr>\n",
       "    <tr>\n",
       "      <th>13</th>\n",
       "      <td>NY</td>\n",
       "      <td>3.921053</td>\n",
       "      <td>38</td>\n",
       "    </tr>\n",
       "    <tr>\n",
       "      <th>16</th>\n",
       "      <td>VA</td>\n",
       "      <td>3.500000</td>\n",
       "      <td>24</td>\n",
       "    </tr>\n",
       "    <tr>\n",
       "      <th>7</th>\n",
       "      <td>Italy</td>\n",
       "      <td>3.900000</td>\n",
       "      <td>10</td>\n",
       "    </tr>\n",
       "    <tr>\n",
       "      <th>12</th>\n",
       "      <td>NH</td>\n",
       "      <td>2.750000</td>\n",
       "      <td>8</td>\n",
       "    </tr>\n",
       "    <tr>\n",
       "      <th>4</th>\n",
       "      <td>FL</td>\n",
       "      <td>3.333333</td>\n",
       "      <td>6</td>\n",
       "    </tr>\n",
       "    <tr>\n",
       "      <th>15</th>\n",
       "      <td>Slovenia</td>\n",
       "      <td>4.000000</td>\n",
       "      <td>6</td>\n",
       "    </tr>\n",
       "    <tr>\n",
       "      <th>14</th>\n",
       "      <td>PA</td>\n",
       "      <td>3.666667</td>\n",
       "      <td>6</td>\n",
       "    </tr>\n",
       "    <tr>\n",
       "      <th>0</th>\n",
       "      <td>CA</td>\n",
       "      <td>3.400000</td>\n",
       "      <td>5</td>\n",
       "    </tr>\n",
       "    <tr>\n",
       "      <th>17</th>\n",
       "      <td>VT</td>\n",
       "      <td>3.800000</td>\n",
       "      <td>5</td>\n",
       "    </tr>\n",
       "    <tr>\n",
       "      <th>9</th>\n",
       "      <td>MD</td>\n",
       "      <td>4.000000</td>\n",
       "      <td>3</td>\n",
       "    </tr>\n",
       "    <tr>\n",
       "      <th>11</th>\n",
       "      <td>MI</td>\n",
       "      <td>4.000000</td>\n",
       "      <td>2</td>\n",
       "    </tr>\n",
       "    <tr>\n",
       "      <th>6</th>\n",
       "      <td>IL</td>\n",
       "      <td>3.500000</td>\n",
       "      <td>2</td>\n",
       "    </tr>\n",
       "    <tr>\n",
       "      <th>10</th>\n",
       "      <td>ME</td>\n",
       "      <td>4.000000</td>\n",
       "      <td>1</td>\n",
       "    </tr>\n",
       "    <tr>\n",
       "      <th>1</th>\n",
       "      <td>CO</td>\n",
       "      <td>2.000000</td>\n",
       "      <td>1</td>\n",
       "    </tr>\n",
       "    <tr>\n",
       "      <th>5</th>\n",
       "      <td>GA</td>\n",
       "      <td>3.000000</td>\n",
       "      <td>1</td>\n",
       "    </tr>\n",
       "    <tr>\n",
       "      <th>2</th>\n",
       "      <td>CT</td>\n",
       "      <td>4.000000</td>\n",
       "      <td>1</td>\n",
       "    </tr>\n",
       "  </tbody>\n",
       "</table>\n",
       "</div>"
      ],
      "text/plain": [
       "       State  Average Rating  Number of Ratings\n",
       "8         MA        2.964286                 84\n",
       "3         DC        3.539683                 63\n",
       "13        NY        3.921053                 38\n",
       "16        VA        3.500000                 24\n",
       "7      Italy        3.900000                 10\n",
       "12        NH        2.750000                  8\n",
       "4         FL        3.333333                  6\n",
       "15  Slovenia        4.000000                  6\n",
       "14        PA        3.666667                  6\n",
       "0         CA        3.400000                  5\n",
       "17        VT        3.800000                  5\n",
       "9         MD        4.000000                  3\n",
       "11        MI        4.000000                  2\n",
       "6         IL        3.500000                  2\n",
       "10        ME        4.000000                  1\n",
       "1         CO        2.000000                  1\n",
       "5         GA        3.000000                  1\n",
       "2         CT        4.000000                  1"
      ]
     },
     "execution_count": 10,
     "metadata": {},
     "output_type": "execute_result"
    }
   ],
   "source": [
    "pizzerias_state"
   ]
  },
  {
   "cell_type": "code",
   "execution_count": 32,
   "metadata": {},
   "outputs": [
    {
     "data": {
      "image/png": "[encoded data removed]",
      "text/plain": [
       "<Figure size 720x360 with 1 Axes>"
      ]
     },
     "metadata": {},
     "output_type": "display_data"
    }
   ],
   "source": [
    "# plot count of ratings by state\n",
    "sns.set_style(\"whitegrid\")\n",
    "\n",
    "# set font to Trebuchet MS\n",
    "plt.rcParams['font.sans-serif'] = \"Trebuchet MS\"\n",
    "# create plot\n",
    "fig, ax = plt.subplots(figsize=(10, 5))\n",
    "sns.barplot(data=pizzerias_state, x=\"State\", y=\"Number of Ratings\", color='xkcd:faded blue')\n",
    "# set title\n",
    "plt.title(\"Pizzeria Ratings by State / Country\")\n",
    "# remove x-axis label\n",
    "plt.xlabel(\"\")\n",
    "# # set y-axis label\n",
    "plt.ylabel(\"Number of Ratings\")\n",
    "# rotate x-axis labels\n",
    "plt.xticks(rotation=45)\n",
    "# remove top and right spines\n",
    "sns.despine()\n",
    "# save plot\n",
    "plt.savefig(\"../images/pizzeria_counts.png\", bbox_inches=\"tight\", dpi=300)\n",
    "# show plot\n",
    "plt.show()"
   ]
  },
  {
   "cell_type": "code",
   "execution_count": 30,
   "metadata": {},
   "outputs": [
    {
     "data": {
      "image/png": "[encoded data removed]",
      "text/plain": [
       "<Figure size 720x360 with 1 Axes>"
      ]
     },
     "metadata": {},
     "output_type": "display_data"
    }
   ],
   "source": [
    "# histogram of ratings\n",
    "sns.set_style(\"white\")\n",
    "\n",
    "# set font to Trebuchet MS\n",
    "plt.rcParams['font.sans-serif'] = \"Trebuchet MS\"\n",
    "\n",
    "# create plot\n",
    "fig, ax = plt.subplots(figsize=(10, 5))\n",
    "sns.histplot(data=pizzerias, x=\"Rating\", bins=5, color='xkcd:faded blue')\n",
    "# set title\n",
    "plt.title(\"Distribution of Pizzeria Ratings\")\n",
    "# set x-axis label\n",
    "plt.xlabel(\"Rating\")\n",
    "# only show integer values on x-axis\n",
    "plt.locator_params(axis=\"x\", integer=True)\n",
    "# set y-axis label\n",
    "plt.ylabel(\"Count\")\n",
    "# remove top and right spines\n",
    "sns.despine()\n",
    "# save plot\n",
    "plt.savefig(\"../images/pizzeria_ratings.png\", bbox_inches=\"tight\", dpi=300)\n",
    "# show plot\n",
    "plt.show()"
   ]
  },
  {
   "cell_type": "code",
   "execution_count": null,
   "metadata": {},
   "outputs": [],
   "source": []
  }
 ],
 "metadata": {
  "kernelspec": {
   "display_name": "base",
   "language": "python",
   "name": "python3"
  },
  "language_info": {
   "codemirror_mode": {
    "name": "ipython",
    "version": 3
   },
   "file_extension": ".py",
   "mimetype": "text/x-python",
   "name": "python",
   "nbconvert_exporter": "python",
   "pygments_lexer": "ipython3",
   "version": "3.9.12"
  }
 },
 "nbformat": 4,
 "nbformat_minor": 2
}
